{
 "cells": [
  {
   "cell_type": "markdown",
   "metadata": {},
   "source": [
    "# 1. Nested cross-validation exercise\n",
    "## Nested cross-validation for feature selection with nearest neighbors <br>\n",
    "- Use Python 3 to program both a hyper-parameter selection method based on leave-one-out cross-validation and a nested leave-one-out cross-validation for estimating the prediction performance of models inferred with this automatic selection approach. Use base learning algorithm provided in the exercise, namely the \"use_ith_feature\" method, so that the value of the hyper-parameter i is automatically selected from the range from 1 to 100 of alternative values. The provided base learning algorithm \"use_ith_feature\" is 1-nearest neighbor that uses only the ith feature of the data given to it. The LOOCV based hyper-parameter selection procedure is supposed to select the best feature, e.g. the value of i, based on C-index evaluated with predictions obtained with leave-one-out cross-validation. A ready-made implementation of C-index is also provided in the exercise. In nested leave-one-out cross-validation, a C_index value is further evaluated on the predictions obtained from an outer leave-one-out cross-validation. **During each round of this outer LOOCV, the whole feature selection process based on inner LOOCV is separately done and the selected feature is used for prediction for the test data point held out during that round of the outer LOOCV.** Accordingly, the actual learning algorithm, whose prediction performance will be evaluated with nested CV, is the one that automatically selects the single best feature with leave-one-out cross-validation based model selection (see the lectures and the pseudo codes presented on them for more info on this interpretation).\n",
    "- Note that since the hold-out set in LOOCV has only a single datum but C-index requires at least two data points. The solution in this exercise is to \"pool\" the predictions of all LOOCV rounds of a single LOOCV computation into an array of length of the data used in that LOOCV computation and then compute C-index on that array and the corresponding true outputs. This pooling approach, however, does have its weaknesses, since C-index computed from pooled LOOCV outputs may sometimes be a heavily biased estimator of the true C-index. This has been considered in detail in our previous research (and other group's too as seen in the references) that is available here:\n",
    "http://dx.doi.org/10.1177/0962280218795190\n",
    "where AUC, a special case of C-index, is considered. The study goes quite deep into the problem of AUC estimation with CV, and you can read it if you are interested about the research carried out in our laboratory, while EMLM course does not go that far and this year's exercise unfortunately still has this non-optimal pooling approach in use.\n",
    "- Compare the C-index produced by nested leave-one-out CV with the result of ordinary leave-one-out CV with the best value of i e.g. the feature providing the highest LOOCV C-index, and show the C-index difference between the two methods.\n",
    "- Use the provided implementation of the \"use_ith_feature\" learning algorithm and C-index functions in your exercise.\n",
    "\n",
    "As a summary, for completing this exercise implement the following steps: \n",
    "_______________________________________________________________\n",
    "#### 1. Use leave-one-out cross-validation for determining the optimal i-parameter for the data (X_alternative.csv, y_alternative.csv) from the set of possible values of i e.g. {1,...,100}. When you have found the optimal i, save the corresponding C-index (call it *loo_c_index*) for this parameter.\n",
    "#### 2. Similarly, use nested leave-one-out cross-validation (leave-one-out both in outer and inner folds) for estimating the C-index (call it *nloo_c_index*) of the method that selects the best feature with leave-one-out approach. \n",
    "#### 3. Return both this notebook and as a PDF-file made from it in the exercise submit page. \n",
    "_______________________________________________________________\n",
    "\n",
    "Remember to use the provided learning algorithm use_ith_feature and C-index functions in your implementation! "
   ]
  },
  {
   "cell_type": "markdown",
   "metadata": {},
   "source": [
    "## Import libraries"
   ]
  },
  {
   "cell_type": "code",
   "execution_count": 1,
   "metadata": {},
   "outputs": [],
   "source": [
    "#In this cell import all libraries you need. For example: \n",
    "import numpy as np\n",
    "import matplotlib.pyplot as plt\n",
    "\n",
    "%matplotlib inline"
   ]
  },
  {
   "cell_type": "markdown",
   "metadata": {},
   "source": [
    "## Provided functions "
   ]
  },
  {
   "cell_type": "code",
   "execution_count": 2,
   "metadata": {},
   "outputs": [],
   "source": [
    "\"\"\"\n",
    "C-index function: \n",
    "- INPUTS: \n",
    "'y' an array of the true output values\n",
    "'yp' an array of predicted output values\n",
    "- OUTPUT: \n",
    "The c-index value\n",
    "\"\"\"\n",
    "def cindex(y, yp):\n",
    "    n = 0\n",
    "    h_num = 0 \n",
    "    for i in range(0, len(y)):\n",
    "        t = y[i]\n",
    "        p = yp[i]\n",
    "        for j in range(i+1, len(y)):\n",
    "            nt = y[j]\n",
    "            np = yp[j]\n",
    "            if (t != nt): \n",
    "                n = n + 1\n",
    "                if (p < np and t < nt) or (p > np and t > nt): \n",
    "                    h_num += 1\n",
    "                elif (p == np):\n",
    "                    h_num += 0.5\n",
    "    return h_num/n\n",
    "\n",
    "\"\"\"\n",
    "Self-contained 1-nearest neighbor using only a single feature\n",
    "- INPUTS: \n",
    "'X_train' a numpy matrix of the X-features of the train data points\n",
    "'y_train' a numpy matrix of the output values of the train data points\n",
    "'X_test' a numpy matrix of the X-features of the test data points\n",
    "'i' the index of the feature to be used with 1-nearest neighbor\n",
    "- OUTPUT: \n",
    "'y_predictions' a list of the output value predictions\n",
    "\"\"\"\n",
    "def use_ith_feature(X_train, y_train, X_test, i):\n",
    "    y_predictions = []\n",
    "    for test_ind in range(0, X_test.shape[0]):\n",
    "        diff = X_test[test_ind, i] - X_train[:, i]\n",
    "        distances = np.sqrt(diff * diff)\n",
    "        sort_inds = np.array(np.argsort(distances), dtype=int)\n",
    "        y_predictions.append(y_train[sort_inds[0]])\n",
    "    return y_predictions\n"
   ]
  },
  {
   "cell_type": "markdown",
   "metadata": {},
   "source": [
    "## Your implementation here"
   ]
  },
  {
   "cell_type": "code",
   "execution_count": 3,
   "metadata": {},
   "outputs": [
    {
     "name": "stdout",
     "output_type": "stream",
     "text": [
      "x_data : (30, 100)\n",
      "y_data : (30,)\n"
     ]
    }
   ],
   "source": [
    "# load data\n",
    "\n",
    "x_data = np.loadtxt('X_alternative.csv', delimiter=\",\")\n",
    "y_data = np.loadtxt('y_alternative.csv', delimiter=\",\")\n",
    "\n",
    "print(f'x_data : {x_data.shape}\\ny_data : {y_data.shape}')  # N = 30"
   ]
  },
  {
   "cell_type": "code",
   "execution_count": 4,
   "metadata": {},
   "outputs": [
    {
     "data": {
      "image/png": "[encoded data removed]",
      "text/plain": [
       "<Figure size 640x480 with 1 Axes>"
      ]
     },
     "metadata": {},
     "output_type": "display_data"
    }
   ],
   "source": [
    "# visualization pair data\n",
    "\n",
    "random_feature_idx = np.random.choice(x_data.shape[1])\n",
    "random_test_idx = np.random.choice(x_data.shape[0])\n",
    "\n",
    "x_test = x_data[random_test_idx, random_feature_idx]\n",
    "y_test = y_data[random_test_idx]\n",
    "\n",
    "x_train = np.delete(x_data, random_test_idx, axis=0)\n",
    "y_train = np.delete(y_data, random_test_idx, axis=0)\n",
    "\n",
    "plt.figure()\n",
    "#plt.scatter(x_data[:, random_feature_idx], y_data)\n",
    "plt.scatter(x_train[:, random_feature_idx], y_train)\n",
    "plt.scatter(x_test, y_test)\n",
    "plt.title(f\"scatter plot : feature idx {random_feature_idx} test idx {random_test_idx}\")\n",
    "plt.legend(['train', 'test'])\n",
    "plt.show()"
   ]
  },
  {
   "cell_type": "code",
   "execution_count": 5,
   "metadata": {},
   "outputs": [
    {
     "name": "stdout",
     "output_type": "stream",
     "text": [
      "the best feature is 76, with coresponding c-index 0.6620689655172414\n"
     ]
    }
   ],
   "source": [
    "# running leave-one-out cross-validation for features selection(inner loop)\n",
    "def feature_selector(x_data, y_data):\n",
    "    \"\"\"select best feature from 1-nearest neighbor\n",
    "    INPUT:\n",
    "        'x_data' - 2-dimension x points with features \n",
    "        'y_data' - 1-dimension coresponding y points\n",
    "    OUTPUT:\n",
    "        'best_feature' - the number of best feature\n",
    "        'looc_indx' - the c-index of best feature\n",
    "    \"\"\"\n",
    "    best_feature, looc_indx = 0, 0\n",
    "    for feature_idx in range(0, x_data.shape[1]):\n",
    "        \n",
    "        x_select_feature = x_data[:, feature_idx]\n",
    "        y_prediction = []\n",
    "        for test_idx in range(x_select_feature.shape[0]):\n",
    "            x_test = x_select_feature[test_idx]\n",
    "            y_test = y_data[test_idx]\n",
    "            x_train = np.delete(x_select_feature, test_idx)\n",
    "            y_train = np.delete(y_data, test_idx)    \n",
    "            diffs = x_test - x_train\n",
    "            distances = np.sqrt(diffs * diffs)\n",
    "            sort_indx = np.argmin(distances)\n",
    "            y_prediction.append(y_train[sort_indx])\n",
    "            \n",
    "        cindx = cindex(y_data, y_prediction)\n",
    "        if cindx > looc_indx:\n",
    "            best_feature, looc_indx = feature_idx, cindx\n",
    "    \n",
    "    return best_feature, looc_indx\n",
    "        \n",
    "        \n",
    "best_feature, looc_indx = feature_selector(x_data, y_data)\n",
    "print(f'the best feature is {best_feature}, with coresponding c-index {looc_indx}')"
   ]
  },
  {
   "cell_type": "code",
   "execution_count": 6,
   "metadata": {},
   "outputs": [
    {
     "name": "stdout",
     "output_type": "stream",
     "text": [
      "the best feature is 76, with coresponding c-index 0.6650246305418719\n",
      "the best feature is 76, with coresponding c-index 0.6490147783251231\n",
      "the best feature is 76, with coresponding c-index 0.6514778325123153\n",
      "the best feature is 76, with coresponding c-index 0.6613300492610837\n",
      "the best feature is 76, with coresponding c-index 0.6539408866995073\n",
      "the best feature is 76, with coresponding c-index 0.646551724137931\n",
      "the best feature is 76, with coresponding c-index 0.6711822660098522\n",
      "the best feature is 76, with coresponding c-index 0.6588669950738916\n",
      "the best feature is 76, with coresponding c-index 0.6539408866995073\n",
      "the best feature is 54, with coresponding c-index 0.6330049261083743\n",
      "the best feature is 76, with coresponding c-index 0.6613300492610837\n",
      "the best feature is 54, with coresponding c-index 0.6330049261083743\n",
      "the best feature is 76, with coresponding c-index 0.6687192118226601\n",
      "the best feature is 76, with coresponding c-index 0.6847290640394089\n",
      "the best feature is 76, with coresponding c-index 0.6600985221674877\n",
      "the best feature is 76, with coresponding c-index 0.666256157635468\n",
      "the best feature is 76, with coresponding c-index 0.6268472906403941\n",
      "the best feature is 76, with coresponding c-index 0.6711822660098522\n",
      "the best feature is 76, with coresponding c-index 0.6613300492610837\n",
      "the best feature is 54, with coresponding c-index 0.6490147783251231\n",
      "the best feature is 76, with coresponding c-index 0.6514778325123153\n",
      "the best feature is 76, with coresponding c-index 0.6834975369458128\n",
      "the best feature is 76, with coresponding c-index 0.6945812807881774\n",
      "the best feature is 76, with coresponding c-index 0.6761083743842364\n",
      "the best feature is 76, with coresponding c-index 0.6822660098522167\n",
      "the best feature is 76, with coresponding c-index 0.6761083743842364\n",
      "the best feature is 76, with coresponding c-index 0.6440886699507389\n",
      "the best feature is 16, with coresponding c-index 0.6711822660098522\n",
      "the best feature is 76, with coresponding c-index 0.6736453201970444\n",
      "the best feature is 16, with coresponding c-index 0.6810344827586207\n",
      "the c-index of selected features is 0.5149425287356322\n"
     ]
    }
   ],
   "source": [
    "# running nested loocv for estimate c-index provide by inner loop\n",
    "\n",
    "def evulate_selected_feature(x_data, y_data):\n",
    "    y_prediction = []\n",
    "    for test_idx in range(x_data.shape[0]):\n",
    "        x_train = np.delete(x_data, test_idx, axis=0)\n",
    "        y_train = np.delete(y_data, test_idx)\n",
    "        # find the best features from training set\n",
    "        best_feature, looc_indx = feature_selector(x_train, y_train)\n",
    "        print(f'the best feature is {best_feature}, with coresponding c-index {looc_indx}')\n",
    "        # \n",
    "        x_test = x_data[test_idx, best_feature]\n",
    "        y_test = y_data[test_idx]\n",
    "        diffs = x_test - x_train[:, best_feature]\n",
    "        distances = np.sqrt(diffs * diffs)\n",
    "        sort_indx = np.argmin(distances)\n",
    "        y_prediction.append(y_train[sort_indx])\n",
    "        \n",
    "    print(f'the c-index of selected features is {cindex(y_data, y_prediction)}')\n",
    "    \n",
    "\n",
    "evulate_selected_feature(x_data, y_data)"
   ]
  }
 ],
 "metadata": {
  "kernelspec": {
   "display_name": "Python 3 (ipykernel)",
   "language": "python",
   "name": "python3"
  },
  "language_info": {
   "codemirror_mode": {
    "name": "ipython",
    "version": 3
   },
   "file_extension": ".py",
   "mimetype": "text/x-python",
   "name": "python",
   "nbconvert_exporter": "python",
   "pygments_lexer": "ipython3",
   "version": "3.9.13"
  },
  "toc": {
   "base_numbering": 1,
   "nav_menu": {},
   "number_sections": false,
   "sideBar": true,
   "skip_h1_title": false,
   "title_cell": "Table of Contents",
   "title_sidebar": "Contents",
   "toc_cell": false,
   "toc_position": {},
   "toc_section_display": true,
   "toc_window_display": true
  },
  "varInspector": {
   "cols": {
    "lenName": 16,
    "lenType": 16,
    "lenVar": 40
   },
   "kernels_config": {
    "python": {
     "delete_cmd_postfix": "",
     "delete_cmd_prefix": "del ",
     "library": "var_list.py",
     "varRefreshCmd": "print(var_dic_list())"
    },
    "r": {
     "delete_cmd_postfix": ") ",
     "delete_cmd_prefix": "rm(",
     "library": "var_list.r",
     "varRefreshCmd": "cat(var_dic_list()) "
    }
   },
   "types_to_exclude": [
    "module",
    "function",
    "builtin_function_or_method",
    "instance",
    "_Feature"
   ],
   "window_display": false
  },
  "vp": {
   "vp_config_version": "1.0.0",
   "vp_menu_width": 273,
   "vp_note_display": false,
   "vp_note_width": 0,
   "vp_position": {
    "width": 278
   },
   "vp_section_display": false,
   "vp_signature": "VisualPython"
  },
  "vscode": {
   "interpreter": {
    "hash": "bb532757fed48d9d4cc4d8df45471bdd69be71ac36f835085c5459d2e549858c"
   }
  }
 },
 "nbformat": 4,
 "nbformat_minor": 2
}
