{
 "cells": [
  {
   "cell_type": "markdown",
   "metadata": {},
   "source": [
    "Student name: Guanghang Chen<br>\n",
    "Student number: 521084 <br>\n",
    "Feb, 2, 2023  <br>"
   ]
  },
  {
   "cell_type": "markdown",
   "metadata": {},
   "source": [
    "# Exercise 2 | TKO_7092 Evaluation of Machine Learning Methods 2023"
   ]
  },
  {
   "cell_type": "markdown",
   "metadata": {},
   "source": [
    "### Prediction of the metal ion content from multi-parameter data\n",
    "##### Use K-Nearest Neighbor Regression with euclidean distance to predict total metal concentration (c_total), concentration of Cadmium (Cd) and concentration of Lead (Pb), for each sample using number of neighbors k = 3.<br> \n",
    "\n",
    "    - You may use Nearest Neighbor Regression from https://scikit-learn.org/stable/modules/neighbors.html\n",
    "    - The data should be standarized using z-score. (Using sklearn.preprocessing.StandardScaler is allowed)\n",
    "    - Implement your own Leave-One-Out cross-validation and calculate the C-index for each output (c_total, Cd, Pb). \n",
    "    - Implement your own Leave-Replicas-Out cross-validation and calculate the C-index for each output (c_total, Cd, Pb).\n",
    "    - Return your solution as a Jupyter Notebook .ipynb notebook and as a PDF-file made from it.\n",
    "    - Submit to moodle your solution on ** Wednesday 8 of February ** at the latest."
   ]
  },
  {
   "cell_type": "markdown",
   "metadata": {},
   "source": [
    "## Import libraries"
   ]
  },
  {
   "cell_type": "code",
   "execution_count": 2,
   "metadata": {},
   "outputs": [],
   "source": [
    "#In this cell import all libraries you need. For example: \n",
    "import numpy as np\n",
    "import pandas as pd\n",
    "import seaborn as sns\n",
    "import matplotlib.pyplot as plt\n",
    "\n",
    "\n",
    "from sklearn.neighbors import KNeighborsRegressor"
   ]
  },
  {
   "cell_type": "markdown",
   "metadata": {},
   "source": [
    "## Read and visualize the dataset"
   ]
  },
  {
   "cell_type": "code",
   "execution_count": 3,
   "metadata": {},
   "outputs": [
    {
     "name": "stdout",
     "output_type": "stream",
     "text": [
      "the dimesions of 'water_data.csv' : (225, 6)\n",
      "describe:\n",
      " c_total  count       225.000000\n",
      "         mean        730.320000\n",
      "         std        1378.895027\n",
      "         min           0.000000\n",
      "         25%          35.000000\n",
      "         50%         100.000000\n",
      "         75%         500.000000\n",
      "         max        5000.000000\n",
      "Cd       count       225.000000\n",
      "         mean        365.160000\n",
      "         std         871.588318\n",
      "         min           0.000000\n",
      "         25%           8.400000\n",
      "         50%          40.000000\n",
      "         75%         200.000000\n",
      "         max        5000.000000\n",
      "Pb       count       225.000000\n",
      "         mean        365.160000\n",
      "         std         871.588318\n",
      "         min           0.000000\n",
      "         25%           8.400000\n",
      "         50%          40.000000\n",
      "         75%         200.000000\n",
      "         max        5000.000000\n",
      "Mod1     count       225.000000\n",
      "         mean     109791.906667\n",
      "         std      100148.061764\n",
      "         min        7919.000000\n",
      "         25%       20597.000000\n",
      "         50%       61961.000000\n",
      "         75%      182870.000000\n",
      "         max      304601.000000\n",
      "Mod2     count       225.000000\n",
      "         mean       8757.546667\n",
      "         std       12122.257400\n",
      "         min         101.000000\n",
      "         25%         417.000000\n",
      "         50%        2940.000000\n",
      "         75%       12808.000000\n",
      "         max       42466.000000\n",
      "Mod3     count       225.000000\n",
      "         mean      97341.133333\n",
      "         std       60402.979200\n",
      "         min        2153.000000\n",
      "         25%       37177.000000\n",
      "         50%      112888.000000\n",
      "         75%      145086.000000\n",
      "         max      224063.000000\n",
      "dtype: float64 \n",
      "\n",
      "first 5 row:\n"
     ]
    },
    {
     "data": {
      "text/html": [
       "<div>\n",
       "<style scoped>\n",
       "    .dataframe tbody tr th:only-of-type {\n",
       "        vertical-align: middle;\n",
       "    }\n",
       "\n",
       "    .dataframe tbody tr th {\n",
       "        vertical-align: top;\n",
       "    }\n",
       "\n",
       "    .dataframe thead th {\n",
       "        text-align: right;\n",
       "    }\n",
       "</style>\n",
       "<table border=\"1\" class=\"dataframe\">\n",
       "  <thead>\n",
       "    <tr style=\"text-align: right;\">\n",
       "      <th></th>\n",
       "      <th>c_total</th>\n",
       "      <th>Cd</th>\n",
       "      <th>Pb</th>\n",
       "      <th>Mod1</th>\n",
       "      <th>Mod2</th>\n",
       "      <th>Mod3</th>\n",
       "    </tr>\n",
       "  </thead>\n",
       "  <tbody>\n",
       "    <tr>\n",
       "      <th>0</th>\n",
       "      <td>0</td>\n",
       "      <td>0.0</td>\n",
       "      <td>0.0</td>\n",
       "      <td>9945</td>\n",
       "      <td>119</td>\n",
       "      <td>72335</td>\n",
       "    </tr>\n",
       "    <tr>\n",
       "      <th>1</th>\n",
       "      <td>0</td>\n",
       "      <td>0.0</td>\n",
       "      <td>0.0</td>\n",
       "      <td>10786</td>\n",
       "      <td>117</td>\n",
       "      <td>82977</td>\n",
       "    </tr>\n",
       "    <tr>\n",
       "      <th>2</th>\n",
       "      <td>0</td>\n",
       "      <td>0.0</td>\n",
       "      <td>0.0</td>\n",
       "      <td>10812</td>\n",
       "      <td>120</td>\n",
       "      <td>98594</td>\n",
       "    </tr>\n",
       "    <tr>\n",
       "      <th>3</th>\n",
       "      <td>14</td>\n",
       "      <td>0.0</td>\n",
       "      <td>14.0</td>\n",
       "      <td>9742</td>\n",
       "      <td>127</td>\n",
       "      <td>154323</td>\n",
       "    </tr>\n",
       "    <tr>\n",
       "      <th>4</th>\n",
       "      <td>14</td>\n",
       "      <td>0.0</td>\n",
       "      <td>14.0</td>\n",
       "      <td>8495</td>\n",
       "      <td>120</td>\n",
       "      <td>131672</td>\n",
       "    </tr>\n",
       "  </tbody>\n",
       "</table>\n",
       "</div>"
      ],
      "text/plain": [
       "   c_total   Cd    Pb   Mod1  Mod2    Mod3\n",
       "0        0  0.0   0.0   9945   119   72335\n",
       "1        0  0.0   0.0  10786   117   82977\n",
       "2        0  0.0   0.0  10812   120   98594\n",
       "3       14  0.0  14.0   9742   127  154323\n",
       "4       14  0.0  14.0   8495   120  131672"
      ]
     },
     "execution_count": 3,
     "metadata": {},
     "output_type": "execute_result"
    }
   ],
   "source": [
    "#In this cell read the file Water_data.csv\n",
    "#Print the dataset dimesions (i.e. number of rows and columns)\n",
    "#Print the first 5 rows of the dataset\n",
    "\n",
    "water_df = pd.read_csv('./Water_data.csv')\n",
    "\n",
    "print(f'the dimesions of \\'water_data.csv\\' : {water_df.shape}' )\n",
    "print(\"describe:\\n\", water_df.describe().unstack(), \"\\n\")\n",
    "print(\"first 5 row:\")\n",
    "water_df.head(5)"
   ]
  },
  {
   "cell_type": "markdown",
   "metadata": {},
   "source": [
    "#### To show understanding of the data, answer the following questions:\n",
    "- How many different mixtures of Cadmium (Cd) and Lead (Pb) were measured? <br>\n",
    "- How many total concentrations (c_total) were measured? <br>\n",
    "- How many mixtures have less than 4 replicas? <br>\n",
    "- Make plots of Lead (Pb) and Cadmium (Cd) mixtures for low and high concentrations. <br>\n",
    "Where low concentrations are those with c_total <= 100, while in high concentration c_total > 100.<br>\n",
    "Hint: plots are similar to the ones presented in the video lecture.  "
   ]
  },
  {
   "cell_type": "code",
   "execution_count": 4,
   "metadata": {},
   "outputs": [
    {
     "name": "stdout",
     "output_type": "stream",
     "text": [
      "There are 67 different mixtures of Cadmium(Cd) and Lead(Pb) were measured.\n",
      "There are 12 total concentrations(c_total) were measured.\n",
      "There are 43 mixture have less than 4 replicas.\n"
     ]
    },
    {
     "data": {
      "image/png": "[encoded data removed]",
      "text/plain": [
       "<Figure size 1600x800 with 2 Axes>"
      ]
     },
     "metadata": {},
     "output_type": "display_data"
    }
   ],
   "source": [
    "#In this cell write the code to answer the previous questions and print the answers.\n",
    "\n",
    "mixtures_count = len(water_df[['Cd', 'Pb']].value_counts())\n",
    "concentrations_count = len(water_df['c_total'].value_counts())\n",
    "replicas_count = sum(item < 4 for item in water_df[['Cd', 'Pb']].value_counts())\n",
    "\n",
    "print(f'There are {mixtures_count} different mixtures of Cadmium(Cd) and Lead(Pb) were measured.')\n",
    "print(f'There are {concentrations_count} total concentrations(c_total) were measured.')\n",
    "print(f'There are {replicas_count} mixture have less than 4 replicas.')\n",
    "\n",
    "\n",
    "fig = plt.figure(figsize=(16, 8))\n",
    "\n",
    "ax1 = plt.subplot(1, 2, 1)\n",
    "ax1.scatter(water_df[water_df['c_total'] < 100]['Cd'], water_df[water_df['c_total'] < 100]['Pb'])\n",
    "ax1.set_title(\"Low Concentractions\")\n",
    "ax1.set_xlabel(\"Cadmium(Cd)\")\n",
    "ax1.set_ylabel(\"Lead(Pb)\")\n",
    "ax1.grid()\n",
    "\n",
    "ax2 = plt.subplot(1, 2, 2)\n",
    "ax2.scatter(water_df[water_df['c_total'] > 100]['Cd'], water_df[water_df['c_total'] > 100]['Pb'])\n",
    "ax2.set_title(\"High Concentractions\")\n",
    "ax2.set_xlabel(\"Cadmium(Cd)\")\n",
    "ax2.set_ylabel(\"Lead(Pb)\")\n",
    "ax2.grid()"
   ]
  },
  {
   "cell_type": "markdown",
   "metadata": {},
   "source": [
    "## Standardization of the dataset"
   ]
  },
  {
   "cell_type": "code",
   "execution_count": 5,
   "metadata": {},
   "outputs": [
    {
     "name": "stdout",
     "output_type": "stream",
     "text": [
      "features before z-score \n",
      "mean\n",
      "Mod1    109791.906667\n",
      "Mod2      8757.546667\n",
      "Mod3     97341.133333\n",
      "dtype: float64 \n",
      "std\n",
      "Mod1    99925.262685\n",
      "Mod2    12095.289052\n",
      "Mod3    60268.600882\n",
      "dtype: float64\n",
      "features after z-score \n",
      "mean\n",
      "Mod1    3.157968e-17\n",
      "Mod2   -9.473903e-17\n",
      "Mod3    6.315935e-17\n",
      "dtype: float64 \n",
      "std\n",
      "Mod1    0.997775\n",
      "Mod2    0.997775\n",
      "Mod3    0.997775\n",
      "dtype: float64\n"
     ]
    },
    {
     "name": "stderr",
     "output_type": "stream",
     "text": [
      "c:\\Users\\box69\\miniconda3\\lib\\site-packages\\numpy\\core\\fromnumeric.py:3430: FutureWarning: In a future version, DataFrame.mean(axis=None) will return a scalar mean over the entire DataFrame. To retain the old behavior, use 'frame.mean(axis=0)' or just 'frame.mean()'\n",
      "  return mean(axis=axis, dtype=dtype, out=out, **kwargs)\n"
     ]
    },
    {
     "data": {
      "text/html": [
       "<div>\n",
       "<style scoped>\n",
       "    .dataframe tbody tr th:only-of-type {\n",
       "        vertical-align: middle;\n",
       "    }\n",
       "\n",
       "    .dataframe tbody tr th {\n",
       "        vertical-align: top;\n",
       "    }\n",
       "\n",
       "    .dataframe thead th {\n",
       "        text-align: right;\n",
       "    }\n",
       "</style>\n",
       "<table border=\"1\" class=\"dataframe\">\n",
       "  <thead>\n",
       "    <tr style=\"text-align: right;\">\n",
       "      <th></th>\n",
       "      <th>Mod1</th>\n",
       "      <th>Mod2</th>\n",
       "      <th>Mod3</th>\n",
       "    </tr>\n",
       "  </thead>\n",
       "  <tbody>\n",
       "    <tr>\n",
       "      <th>0</th>\n",
       "      <td>-0.996993</td>\n",
       "      <td>-0.712619</td>\n",
       "      <td>-0.413988</td>\n",
       "    </tr>\n",
       "    <tr>\n",
       "      <th>1</th>\n",
       "      <td>-0.988595</td>\n",
       "      <td>-0.712784</td>\n",
       "      <td>-0.237805</td>\n",
       "    </tr>\n",
       "    <tr>\n",
       "      <th>2</th>\n",
       "      <td>-0.988336</td>\n",
       "      <td>-0.712536</td>\n",
       "      <td>0.020742</td>\n",
       "    </tr>\n",
       "    <tr>\n",
       "      <th>3</th>\n",
       "      <td>-0.999020</td>\n",
       "      <td>-0.711959</td>\n",
       "      <td>0.943362</td>\n",
       "    </tr>\n",
       "    <tr>\n",
       "      <th>4</th>\n",
       "      <td>-1.011471</td>\n",
       "      <td>-0.712536</td>\n",
       "      <td>0.568364</td>\n",
       "    </tr>\n",
       "  </tbody>\n",
       "</table>\n",
       "</div>"
      ],
      "text/plain": [
       "       Mod1      Mod2      Mod3\n",
       "0 -0.996993 -0.712619 -0.413988\n",
       "1 -0.988595 -0.712784 -0.237805\n",
       "2 -0.988336 -0.712536  0.020742\n",
       "3 -0.999020 -0.711959  0.943362\n",
       "4 -1.011471 -0.712536  0.568364"
      ]
     },
     "execution_count": 5,
     "metadata": {},
     "output_type": "execute_result"
    }
   ],
   "source": [
    "#In this cell standardize the dataset features by removing the mean and scaling to unit variance. \n",
    "#In other words, use z-score to scale the dataset features (Mod1, Mod2, Mod3) \n",
    "#Print the 5 first samples (i.e. rows) of the scaled dataset\n",
    "\n",
    "x_df = water_df[['Mod1', 'Mod2', 'Mod3']]\n",
    "y_df = water_df[['c_total','Cd', 'Pb']]\n",
    "print(f'features before z-score \\nmean\\n{np.mean(x_df)} \\nstd\\n{np.std(x_df)}')\n",
    "\n",
    "\n",
    "x_df = (x_df - x_df.mean() ) / x_df.std()\n",
    "print(f'features after z-score \\nmean\\n{np.mean(x_df)} \\nstd\\n{np.std(x_df)}')\n",
    "\n",
    "x_df.head(5)"
   ]
  },
  {
   "cell_type": "markdown",
   "metadata": {},
   "source": [
    "## C-index code "
   ]
  },
  {
   "cell_type": "code",
   "execution_count": 37,
   "metadata": {},
   "outputs": [],
   "source": [
    "\"\"\"\n",
    "C-index function: \n",
    "- INPUTS: \n",
    "'y' an array of the true output values\n",
    "'yp' an array of predicted output values\n",
    "- OUTPUT: \n",
    "The c-index value\n",
    "\"\"\"\n",
    "def cindex(true_labels, pred_labels):\n",
    "    \"\"\"Returns C-index between true labels and predicted labels\"\"\"  \n",
    "    n = 0\n",
    "    h_num = 0\n",
    "    for i in range(0, len(true_labels)):\n",
    "        t = true_labels[i]\n",
    "        p = pred_labels[i]\n",
    "        for j in range(i+1, len(true_labels)):\n",
    "            nt = true_labels[j]\n",
    "            np = pred_labels[j]\n",
    "            if (t != nt):\n",
    "                n = n + 1\n",
    "                if (p < np and t < nt) or (p > np and t > nt):\n",
    "                    h_num += 1\n",
    "                elif (p==np):\n",
    "                    h_num += 0.5\n",
    "                    \n",
    "    \n",
    "    return h_num / n\n",
    "\n",
    "\n"
   ]
  },
  {
   "cell_type": "code",
   "execution_count": 38,
   "metadata": {},
   "outputs": [
    {
     "name": "stdout",
     "output_type": "stream",
     "text": [
      "0.75\n"
     ]
    }
   ],
   "source": [
    "#test cindex function with following values\n",
    "true_labels = [-1, 1, 1, -1, 1]\n",
    "predictions = [0.60, 0.80, 0.75, 0.75, 0.70]\n",
    "cindx = cindex(true_labels, predictions)\n",
    "print(cindx)"
   ]
  },
  {
   "cell_type": "markdown",
   "metadata": {},
   "source": [
    "## Functions"
   ]
  },
  {
   "cell_type": "markdown",
   "metadata": {},
   "source": [
    "Include here all the functions that you need to run in the data analysis part.<br>\n",
    "**Note:** using a leave-one-out and leave-replicas-out cross-validation from an already made package (e.g. Scikit-learn) is not accepted."
   ]
  },
  {
   "cell_type": "code",
   "execution_count": 75,
   "metadata": {},
   "outputs": [
    {
     "name": "stdout",
     "output_type": "stream",
     "text": [
      "x_data : (225, 3)  x_columns : Index(['Mod1', 'Mod2', 'Mod3'], dtype='object')\n",
      "y_data : (225, 3)  y_columns : Index(['c_total', 'Cd', 'Pb'], dtype='object')\n"
     ]
    }
   ],
   "source": [
    "# implementation of useful functions in data analysis part\n",
    "knn = KNeighborsRegressor(n_neighbors=3) # create regressor instance\n",
    "\n",
    "# data prepartion\n",
    "x_data, x_columns = x_df.to_numpy(), x_df.columns\n",
    "y_data, y_columns = y_df.to_numpy(), y_df.columns\n",
    "\n",
    "print(f'x_data : {x_data.shape}  x_columns : {x_columns}')\n",
    "print(f'y_data : {y_data.shape}  y_columns : {y_columns}')\n",
    "\n",
    "\n",
    "\n",
    "def loo_cv(x_data, y_true, model):\n",
    "\n",
    "   y_pred = []\n",
    "   for test_idx in range(x_data.shape[0]):\n",
    "        x_train = np.delete(x_data, test_idx, axis=0)\n",
    "        y_train = np.delete(y_true, test_idx)\n",
    "        model.fit(x_train, y_train)\n",
    "        #print(x_train.shape, y_train.shape, x_data[test_idx].shape)\n",
    "        pred = model.predict(x_data[test_idx].reshape(1, -1))\n",
    "        y_pred.append(pred)\n",
    "        \n",
    "     \n",
    "   print(np.array(y_pred).shape)\n",
    "        \n",
    "   return cindex(y_true, y_pred)\n",
    "\n",
    "\n"
   ]
  },
  {
   "cell_type": "markdown",
   "metadata": {},
   "source": [
    "## Results for Leave-One-Out cross-validation"
   ]
  },
  {
   "cell_type": "code",
   "execution_count": 76,
   "metadata": {},
   "outputs": [
    {
     "name": "stdout",
     "output_type": "stream",
     "text": [
      "(225, 1)\n",
      "(225, 1)\n",
      "(225, 1)\n",
      "c-index of c-total feature prediction : 0.9141907740422205\n",
      "c-index of Cd feature prediction : 0.8995907629348144\n",
      "c-index of Pb feature prediction : 0.8744519146448407\n"
     ]
    }
   ],
   "source": [
    "#In this cell run your script for Leave-One-Out cross-validation and print the corresponding results.\n",
    "\n",
    "y_true_ctotal = y_data[:, 0]\n",
    "y_true_cd = y_data[:, 1]\n",
    "y_true_pb = y_data[:, 2]\n",
    "\n",
    "    \n",
    "cindx_cotal = loo_cv(x_data, y_true_ctotal, knn)\n",
    "cindx_cd = loo_cv(x_data, y_true_cd, knn)\n",
    "cindx_pb = loo_cv(x_data, y_true_pb, knn)\n",
    "\n",
    "\n",
    "print(f'c-index of c-total feature prediction : {cindx_cotal}')\n",
    "print(f'c-index of Cd feature prediction : {cindx_cd}')\n",
    "print(f'c-index of Pb feature prediction : {cindx_pb}')"
   ]
  },
  {
   "cell_type": "markdown",
   "metadata": {},
   "source": [
    "## Results for Leave-Replicas-Out cross-validation"
   ]
  },
  {
   "cell_type": "code",
   "execution_count": 96,
   "metadata": {},
   "outputs": [
    {
     "name": "stderr",
     "output_type": "stream",
     "text": [
      "C:\\Users\\box69\\AppData\\Local\\Temp\\ipykernel_25144\\254690122.py:39: VisibleDeprecationWarning: Creating an ndarray from ragged nested sequences (which is a list-or-tuple of lists-or-tuples-or ndarrays with different lengths or shapes) is deprecated. If you meant to do this, you must specify 'dtype=object' when creating the ndarray.\n",
      "  groups_mask = np.array([list(item) for item in y_df.groupby(['c_total', 'Cd', 'Pb']).groups.values()])\n"
     ]
    },
    {
     "name": "stdout",
     "output_type": "stream",
     "text": [
      "groups_mask : len: 67 type: <class 'numpy.ndarray'>\n",
      "c-index of c-total feature prediction : 0.8186734427938493\n",
      "c-index of Cd feature prediction : 0.7614523739925669\n",
      "c-index of Pb feature prediction : 0.7689480937069362\n"
     ]
    }
   ],
   "source": [
    "#In this cell run your script for Leave-Replicas-Out cross-validation and print the corresponding results.\n",
    "\n",
    "\n",
    "def lro_cv(x_data, y_true, groups_mask, model):\n",
    "     \"\"\"implementation of Leave-Replicas-Out (LRO) cross-validation\n",
    "     INPUTS:\n",
    "         x_data (np.ndarray): features matrix\n",
    "         y_true (np.ndarray): true label matrix\n",
    "         groups_mask (np.ndarray): groups index for replicas\n",
    "     OUTPUTS:\n",
    "         cv_score (np.ndarray): list of replicas c-index score\n",
    "     \"\"\"\n",
    "     \n",
    "     y_pred = []\n",
    "     for mask in np.unique(groups_mask):\n",
    "        x_group, y_group = x_data[mask], y_true[mask]\n",
    "        #print(mask)\n",
    "        \n",
    "        y_pred_replica, y_true_replica = [], []\n",
    "        for test_idx in mask:\n",
    "            #print(test_idx)\n",
    "            x_test = x_data[test_idx]\n",
    "            x_train = np.delete(x_data, mask, axis=0)  # leave replicas out, train expect replicas\n",
    "            y_train = np.delete(y_true, mask)\n",
    "            #print(x_train.shape, y_train.shape, x_test.shape)\n",
    "            model.fit(x_train, y_train)\n",
    "            pred = model.predict(x_test.reshape(1, -1))[0]\n",
    "            #print(pred, y_true[test_idx])\n",
    "            y_pred.append(pred)\n",
    "            \n",
    "        \n",
    "        \n",
    "     return cindex(y_true, y_pred)\n",
    "     \n",
    "        \n",
    "        \n",
    "# create group mask for leave-replicas-out cross-validation\n",
    "groups_mask = np.array([list(item) for item in y_df.groupby(['c_total', 'Cd', 'Pb']).groups.values()])\n",
    "print(f\"groups_mask : len: {len(groups_mask)} type: {type(groups_mask)}\")\n",
    "\n",
    "\n",
    "\n",
    "cindx_lro_cotal = lro_cv(x_data, y_true_ctotal, groups_mask, knn)\n",
    "cindx_lro_cd = lro_cv(x_data, y_true_cd, groups_mask, knn)\n",
    "cindx_lro_pb = lro_cv(x_data, y_true_pb, groups_mask, knn)\n",
    "\n",
    "\n",
    "print(f'c-index of c-total feature prediction : {cindx_lro_cotal}')\n",
    "print(f'c-index of Cd feature prediction : {cindx_lro_cd}')\n",
    "print(f'c-index of Pb feature prediction : {cindx_lro_pb}')\n",
    "\n",
    "\n",
    "\n"
   ]
  },
  {
   "attachments": {},
   "cell_type": "markdown",
   "metadata": {},
   "source": [
    "## Interpretation of results\n",
    "#### Answer the following questions based on the results obtained\n",
    "- Which cross-validation approach had more optimistic results?\n",
    "\n",
    "answer: \n",
    "\n",
    "leave-one-out cross validation has more optimistic result. because leave-one-out cross validation might introduce nearly identical data for training and validation, while ensuring that each replicate sample is used. while in leave-replicas-out cross-validation, validation set would only sample one from replicas, which bring more effective and robust result esapcaliy for replicas samples.\n",
    "\n",
    "- Which cross-validation generalize better on unseen data? Why?\n",
    "\n",
    "\n",
    "answer: \n",
    "\n",
    "In the Leave-Replicas-Out cross-validation, each set of repeated data is used only once as the validation set, and the remaining data is used as the training set. In the leave-one-out cross-validation, each repeated data set can be used as the validation set, and the training set contains all other data. Therefore, Leave-Replicas-Out cross-validation provides a more accurate evaluation and better reflects the generalization performance of the data.\n",
    "\n",
    "Translated with www.DeepL.com/Translator (free version)\n"
   ]
  },
  {
   "cell_type": "code",
   "execution_count": null,
   "metadata": {},
   "outputs": [],
   "source": [
    "#In this cell write your answers to the questions about Interpretation of Results."
   ]
  }
 ],
 "metadata": {
  "kernelspec": {
   "display_name": "Python 3 (ipykernel)",
   "language": "python",
   "name": "python3"
  },
  "language_info": {
   "codemirror_mode": {
    "name": "ipython",
    "version": 3
   },
   "file_extension": ".py",
   "mimetype": "text/x-python",
   "name": "python",
   "nbconvert_exporter": "python",
   "pygments_lexer": "ipython3",
   "version": "3.9.15"
  },
  "toc": {
   "base_numbering": 1,
   "nav_menu": {},
   "number_sections": false,
   "sideBar": true,
   "skip_h1_title": false,
   "title_cell": "Table of Contents",
   "title_sidebar": "Contents",
   "toc_cell": false,
   "toc_position": {},
   "toc_section_display": true,
   "toc_window_display": true
  },
  "varInspector": {
   "cols": {
    "lenName": 16,
    "lenType": 16,
    "lenVar": 40
   },
   "kernels_config": {
    "python": {
     "delete_cmd_postfix": "",
     "delete_cmd_prefix": "del ",
     "library": "var_list.py",
     "varRefreshCmd": "print(var_dic_list())"
    },
    "r": {
     "delete_cmd_postfix": ") ",
     "delete_cmd_prefix": "rm(",
     "library": "var_list.r",
     "varRefreshCmd": "cat(var_dic_list()) "
    }
   },
   "types_to_exclude": [
    "module",
    "function",
    "builtin_function_or_method",
    "instance",
    "_Feature"
   ],
   "window_display": false
  },
  "vscode": {
   "interpreter": {
    "hash": "8d15959248421d7cdacb685e02bc265bc190608b6bbf9ae4d40de098fd7eb5e5"
   }
  }
 },
 "nbformat": 4,
 "nbformat_minor": 4
}
