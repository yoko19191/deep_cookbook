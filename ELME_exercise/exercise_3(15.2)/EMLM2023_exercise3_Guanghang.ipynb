{
 "cells": [
  {
   "cell_type": "markdown",
   "metadata": {},
   "source": [
    "# Exercise 3 | TKO_7092 Evaluation of Machine Learning Methods 2023\n",
    "## deadline: 15.2.2023 - 23:59\n",
    "\n",
    "Regarding any questions about this exercise, please contact course assistant Jonne Pohjankukka (jjepoh@utu.fi)\n",
    "\n",
    "********************************************\n",
    "\n",
    "Student name: Guanghang Chen\n",
    "\n",
    "Student number: 521084\n",
    "\n",
    "Student email: guchen@utu.fi\n",
    "\n",
    "********************************************"
   ]
  },
  {
   "cell_type": "markdown",
   "metadata": {},
   "source": [
    "## Water permeability prediction in forestry <br>\n",
    "\n",
    "In this task, the client wants you to estimate the spatial prediction performance of K-nearest neighbor regression model with **K=5 (5NN)**, using spatial leave-one-out cross-validation (i.e. SKCV, with **number of folds == number of data points**). The client wants you to use the **C-index** as the performance measure.  \n",
    "\n",
    "In other words, the client wants you to answer the question: \"What happens to the prediction performance of water permeability using 5-nearest neighbor regression model, when the geographical distance between known data and unknown data increases?\".\n",
    "\n",
    "In this task, you have three data files available (with 1691 data points): \n",
    "\n",
    "- input.csv, contains the 75 predictor features. \n",
    "- output.csv, contains the water permebility values. \n",
    "- coordinates.csv, contains the corresponding geographical coordinate locations of the data points. The unit of the coordinates is metre, and you can use Euclidean distance to calculate distances between the coordinate points. \n",
    "\n",
    "Implement the following tasks to complete this exercise:\n",
    "\n",
    "********************************************\n",
    "\n",
    "#### 1. Z-score standardize the predictor features (input.csv). \n",
    "\n",
    "#### 2. Perform spatial leave-one-out cross-validation with 5NN model for the provided data set (refer to the lectures 3.1.3 and 3.1.4 for help). Estimate the water permeability prediction performance (using 5NN model and C-index) with the following distance parameter values: d = 0, 10, 20, ..., 250 (that is, 10 meter intervals from 0m to 250m). \n",
    "\n",
    "#### 3. When you have calculated the C-index performance measure for each value of d, visualize the results with the C-index (y-axis) as a function of d (x-axis).\n",
    "\n",
    "********************************************\n",
    "\n",
    "Your .ipynb-file must include the following: \n",
    "\n",
    "- Your own implementation of the spatial leave-one-out cross-validation for the current task. Remember to also take advantage of earlier exercises (e.g. C-index). For the 5-nearest neighbor and Euclidean distance calculation you can use third-party libraries (e.g. Scikit-learn) if you want. Also, try to follow good programming practices and add comments to relevant parts of your code explaining what you are doing and why.\n",
    "\n",
    "\n",
    "- Plot of the graph C-index vs. distance parameter value. \n",
    "\n",
    "\n",
    "<br><br><br>\n",
    "-- START IMPLEMENTING YOUR EXERCISE AFTER THIS LINE --\n",
    "<br><br><br>"
   ]
  },
  {
   "cell_type": "markdown",
   "metadata": {},
   "source": [
    "### Import necessary libraries"
   ]
  },
  {
   "cell_type": "code",
   "execution_count": 1,
   "metadata": {},
   "outputs": [],
   "source": [
    "# In this cell, import all the libraries that you need. For example: \n",
    "import numpy as np\n",
    "import matplotlib.pyplot as plt\n",
    "import pandas as pd\n",
    "\n",
    "from sklearn.preprocessing import StandardScaler\n",
    "from sklearn.neighbors import KNeighborsRegressor\n",
    "from sklearn.metrics.pairwise import euclidean_distances\n",
    "\n",
    "%matplotlib inline"
   ]
  },
  {
   "cell_type": "markdown",
   "metadata": {},
   "source": [
    "### Read in the datasets"
   ]
  },
  {
   "cell_type": "code",
   "execution_count": 2,
   "metadata": {},
   "outputs": [
    {
     "name": "stdout",
     "output_type": "stream",
     "text": [
      "input_df : (1691, 75)\n",
      "output_df : (1691, 1)\n",
      "coord_df : (1691, 2)\n"
     ]
    }
   ],
   "source": [
    "# In this cell, read the files input.csv, output.csv and coordinates.csv.\n",
    "# Print out the dataset dimesions (i.e. number of rows and columns).\n",
    "#\n",
    "# Note that the coordinates are in EUREF-TM35FIN format, so you \n",
    "# can use the Euclidean distance to calculate the distance between two coordinate points.  \n",
    "\n",
    "input_df = pd.read_csv('./input.csv', header=None)\n",
    "output_df = pd.read_csv('./output.csv', header=None)\n",
    "coord_df = pd.read_csv('./coordinates.csv', header=None)\n",
    "\n",
    "print(f\"input_df : {input_df.shape}\")\n",
    "print(f\"output_df : {output_df.shape}\")\n",
    "print(f\"coord_df : {coord_df.shape}\")\n",
    "\n"
   ]
  },
  {
   "cell_type": "markdown",
   "metadata": {},
   "source": [
    "### Standardization of the predictor features (input.csv)"
   ]
  },
  {
   "cell_type": "code",
   "execution_count": 3,
   "metadata": {},
   "outputs": [
    {
     "name": "stdout",
     "output_type": "stream",
     "text": [
      "input_scaled_df\n",
      " mean: -4.832194832194651e-16 \n",
      " var : 74.99999999999994\n"
     ]
    }
   ],
   "source": [
    "# Standardize the predictor features (input.csv) by removing the mean and scaling to unit variance. \n",
    "# In other words, z-score the predictor features. You are allowed to use third-party libraries for doing this. \n",
    "\n",
    "input_scaled_df = (input_df - input_df.mean()) / input_df.std()\n",
    "\n",
    "\n",
    "print(f\"input_scaled_df\\n mean: {input_scaled_df.mean().sum()} \\n var : {input_scaled_df.std().sum()}\")"
   ]
  },
  {
   "cell_type": "markdown",
   "metadata": {},
   "source": [
    "### Functions"
   ]
  },
  {
   "cell_type": "code",
   "execution_count": 4,
   "metadata": {},
   "outputs": [],
   "source": [
    "# Include here all the functions (for example the C-index-function) that you need in order to implement the task.\n",
    "\"\"\"\n",
    "C-index function: \n",
    "- INPUTS: \n",
    "'y' an array of the true output values\n",
    "'yp' an array of predicted output values\n",
    "- OUTPUT: \n",
    "The c-index value\n",
    "\"\"\"\n",
    "def cindex(true_labels, pred_labels):\n",
    "    \"\"\"Returns C-index between true labels and predicted labels\"\"\"  \n",
    "    n = 0\n",
    "    h_num = 0\n",
    "    for i in range(0, len(true_labels)):\n",
    "        t = true_labels[i]\n",
    "        p = pred_labels[i]\n",
    "        for j in range(i+1, len(true_labels)):\n",
    "            nt = true_labels[j]\n",
    "            np = pred_labels[j]\n",
    "            if (t != nt):\n",
    "                n = n + 1\n",
    "                if (p < np and t < nt) or (p > np and t > nt):\n",
    "                    h_num += 1\n",
    "                elif (p==np):\n",
    "                    h_num += 0.5\n",
    "                    \n",
    "    \n",
    "    return h_num / n\n",
    "\n",
    "\n",
    "\n",
    "\"\"\"\n",
    "Implementation leave spaital out cross validation\n",
    "- INPUTS\n",
    "'input_df' input features dataframe\n",
    "'output_df'  output dataframe\n",
    "'coord_df' coordinate distance dataframe\n",
    "'filtered_radius_groups'  a list of filtering distances\n",
    "'model'  evualting model\n",
    "- OUTPUT\n",
    "'c_index_result' a list of c-index evulation from each loop\n",
    "\n",
    "\"\"\"\n",
    "def spatial_loocv(input_df, output_df, coord_df, filtered_radius_groups, model):\n",
    "    c_index_result = list()\n",
    "    for filtered_radius in filtered_radius_groups:\n",
    "        print(f\"Filtering out input instance within {filtered_radius} meter\")\n",
    "        y_true, y_pred = list(), list()\n",
    "        ## leave one out loop\n",
    "        for test_index in range(input_df.shape[0]):\n",
    "            train_index = np.delete(input_df.index.tolist(), test_index).tolist()\n",
    "            train_index_filtered = list()\n",
    "            ## filtering out depedent data points \n",
    "            for i in range(len(train_index)):\n",
    "                dist = euclidean_distances([coord_df.values[test_index]], [coord_df.values[train_index[i]]])[0][0]\n",
    "                if dist > filtered_radius:\n",
    "                    train_index_filtered.append(train_index[i])\n",
    "            ## prepare train and test data\n",
    "            X_train, y_train = input_df.values[train_index_filtered], output_df.values[train_index_filtered]\n",
    "            X_test, y_test = input_df.values[[test_index]], output_df.values[[test_index]]\n",
    "            ## train and predict\n",
    "            model.fit(X_train, y_train)\n",
    "            pred = model.predict(X_test)\n",
    "            y_true.append(y_test)\n",
    "            y_pred.append(pred[0])\n",
    "        ## calculate c_index in different filtering radius\n",
    "        c_index = cindex(y_true, y_pred)\n",
    "        print(\"c_index is {}\".format(c_index))\n",
    "        c_index_result.append(c_index)\n",
    "    \n",
    "    return c_index_result     "
   ]
  },
  {
   "cell_type": "code",
   "execution_count": 5,
   "metadata": {},
   "outputs": [
    {
     "name": "stdout",
     "output_type": "stream",
     "text": [
      "0.75\n"
     ]
    }
   ],
   "source": [
    "#test cindex function with following values\n",
    "true_labels = [-1, 1, 1, -1, 1]\n",
    "predictions = [0.60, 0.80, 0.75, 0.75, 0.70]\n",
    "cindx = cindex(true_labels, predictions)\n",
    "print(cindx)\n",
    "\n"
   ]
  },
  {
   "cell_type": "markdown",
   "metadata": {},
   "source": [
    "### Results for spatial leave-one-out cross-validation with 5-nearest neighbor regression model"
   ]
  },
  {
   "cell_type": "code",
   "execution_count": 6,
   "metadata": {},
   "outputs": [
    {
     "name": "stdout",
     "output_type": "stream",
     "text": [
      "Filtering out input instance within 0 meter\n",
      "c_index is 0.7128399518989149\n",
      "Filtering out input instance within 10 meter\n",
      "c_index is 0.7036015617453583\n",
      "Filtering out input instance within 20 meter\n",
      "c_index is 0.7071685455861375\n",
      "Filtering out input instance within 30 meter\n",
      "c_index is 0.7055939910041451\n",
      "Filtering out input instance within 40 meter\n",
      "c_index is 0.6982335870446251\n",
      "Filtering out input instance within 50 meter\n",
      "c_index is 0.691912270116431\n",
      "Filtering out input instance within 60 meter\n",
      "c_index is 0.6910579718869037\n",
      "Filtering out input instance within 70 meter\n",
      "c_index is 0.6862394638884883\n",
      "Filtering out input instance within 80 meter\n",
      "c_index is 0.6835099792952547\n",
      "Filtering out input instance within 90 meter\n",
      "c_index is 0.6819959710441548\n",
      "Filtering out input instance within 100 meter\n",
      "c_index is 0.6805834566425275\n",
      "Filtering out input instance within 110 meter\n",
      "c_index is 0.6370926421858836\n",
      "Filtering out input instance within 120 meter\n",
      "c_index is 0.6170220584632571\n",
      "Filtering out input instance within 130 meter\n",
      "c_index is 0.6017521338206905\n",
      "Filtering out input instance within 140 meter\n",
      "c_index is 0.5985501778592217\n",
      "Filtering out input instance within 150 meter\n",
      "c_index is 0.5952974749730167\n",
      "Filtering out input instance within 160 meter\n",
      "c_index is 0.5957779958534513\n",
      "Filtering out input instance within 170 meter\n",
      "c_index is 0.595799694538511\n",
      "Filtering out input instance within 180 meter\n",
      "c_index is 0.5953622210494044\n",
      "Filtering out input instance within 190 meter\n",
      "c_index is 0.5936291260749599\n",
      "Filtering out input instance within 200 meter\n",
      "c_index is 0.592083269753853\n",
      "Filtering out input instance within 210 meter\n",
      "c_index is 0.5907372513225698\n",
      "Filtering out input instance within 220 meter\n",
      "c_index is 0.5889709083629532\n",
      "Filtering out input instance within 230 meter\n",
      "c_index is 0.588436840727452\n",
      "Filtering out input instance within 240 meter\n",
      "c_index is 0.5883087484898415\n",
      "Filtering out input instance within 250 meter\n",
      "c_index is 0.588564582986271\n",
      "CPU times: total: 7h 43min 22s\n",
      "Wall time: 2h 56min 14s\n"
     ]
    }
   ],
   "source": [
    "%%time\n",
    "# In this cell, run your script for the Spatial leave-One-Out cross-validation \n",
    "# with 5-nearest neighbor regression model and visualize the results as \n",
    "# requested in the task assignment.\n",
    "\n",
    "knn = KNeighborsRegressor(n_neighbors=5)\n",
    "\n",
    "filter_radius_groups = np.arange(0, 251, 10)\n",
    "\n",
    " \n",
    "c_index_result = spatial_loocv(input_scaled_df, output_df, coord_df, filter_radius_groups, knn)\n"
   ]
  },
  {
   "cell_type": "markdown",
   "metadata": {},
   "source": [
    "### Interpretation of the results"
   ]
  },
  {
   "cell_type": "code",
   "execution_count": 17,
   "metadata": {},
   "outputs": [
    {
     "data": {
      "image/png": "[encoded data removed]",
      "text/plain": [
       "<Figure size 640x480 with 1 Axes>"
      ]
     },
     "metadata": {},
     "output_type": "display_data"
    }
   ],
   "source": [
    "# In this cell, give a brief commentary on the results, what happens to the prediction \n",
    "# performance as the prediction distance increases?\n",
    "\n",
    "plt.figure()\n",
    "\n",
    "plt.plot(filter_radius_groups, c_index_result, marker='.', markerfacecolor='red', markersize = 10)\n",
    "plt.xlabel('filtering distance(m)')\n",
    "plt.ylabel('c-index')\n",
    "\n",
    "plt.show()"
   ]
  },
  {
   "cell_type": "markdown",
   "metadata": {},
   "source": [
    "The basic idea of cross validation and its variants is split available dataset into training and testing set then evaluating the model's performance on an independent subject. \n",
    "\n",
    "As we can see from the plotting above, the c-index is decrease as filtering distance increase. its slowly decrease from 0.71 at 0 meter, and fall to 0.61 at 120 meter. finally, reach plaeatue around 0.58 at 250 meter. We can clearly observe how spaital datapoint hold independetn as filtering distance increasing."
   ]
  }
 ],
 "metadata": {
  "kernelspec": {
   "display_name": "Python 3 (ipykernel)",
   "language": "python",
   "name": "python3"
  },
  "language_info": {
   "codemirror_mode": {
    "name": "ipython",
    "version": 3
   },
   "file_extension": ".py",
   "mimetype": "text/x-python",
   "name": "python",
   "nbconvert_exporter": "python",
   "pygments_lexer": "ipython3",
   "version": "3.9.15"
  },
  "toc": {
   "base_numbering": 1,
   "nav_menu": {},
   "number_sections": false,
   "sideBar": true,
   "skip_h1_title": false,
   "title_cell": "Table of Contents",
   "title_sidebar": "Contents",
   "toc_cell": false,
   "toc_position": {},
   "toc_section_display": true,
   "toc_window_display": true
  },
  "varInspector": {
   "cols": {
    "lenName": 16,
    "lenType": 16,
    "lenVar": 40
   },
   "kernels_config": {
    "python": {
     "delete_cmd_postfix": "",
     "delete_cmd_prefix": "del ",
     "library": "var_list.py",
     "varRefreshCmd": "print(var_dic_list())"
    },
    "r": {
     "delete_cmd_postfix": ") ",
     "delete_cmd_prefix": "rm(",
     "library": "var_list.r",
     "varRefreshCmd": "cat(var_dic_list()) "
    }
   },
   "types_to_exclude": [
    "module",
    "function",
    "builtin_function_or_method",
    "instance",
    "_Feature"
   ],
   "window_display": false
  },
  "vscode": {
   "interpreter": {
    "hash": "8d15959248421d7cdacb685e02bc265bc190608b6bbf9ae4d40de098fd7eb5e5"
   }
  }
 },
 "nbformat": 4,
 "nbformat_minor": 2
}
