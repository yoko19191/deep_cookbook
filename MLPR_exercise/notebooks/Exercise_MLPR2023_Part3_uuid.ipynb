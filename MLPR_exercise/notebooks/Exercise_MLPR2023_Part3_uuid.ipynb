{
 "cells": [
  {
   "cell_type": "markdown",
   "id": "48574939",
   "metadata": {},
   "source": [
    "This is the template for the image recognition exercise. <Br>\n",
    "Some **general instructions**, read these carefully:\n",
    " - The final assignment is returned as a clear and understandable *report*\n",
    "    - define shortly the concepts and explain the phases you use\n",
    "    - use the Markdown feature of the notebook for larger explanations\n",
    " - return your output as a *working* Jupyter notebook\n",
    " - name your file as Exercise_MLPR2023_Partx_uuid.jpynb\n",
    "    - use the uuid code determined below\n",
    "    - use this same code for each part of the assignment\n",
    " - write easily readable code with comments     \n",
    "     - if you exploit code from web, provide a reference\n",
    " - it is ok to discuss with a friend about the assignment. But it is not ok to copy someone's work. Everyone should submit their own implementation\n",
    "     - in case of identical submissions, both submissions are failed "
   ]
  },
  {
   "cell_type": "markdown",
   "id": "0bfbc2b3",
   "metadata": {},
   "source": [
    "**Deadlines:**\n",
    "- Part 1: Mon 6.2 at 23:59**\n",
    "- Part 2: Mon 20.2 at 23:59**\n",
    "- Part 3: Mon 6.3 at 23:59**\n",
    "\n",
    "**No extensions for the deadlines** <br>\n",
    "- after each deadline, example results are given, and it is not possible to submit anymore\n",
    "\n",
    "**If you encounter problems, Google first and if you can’t find an answer, ask for help**\n",
    "- Moodle area for questions\n",
    "- pekavir@utu.fi\n",
    "- teacher available for questions on Mondays 30.1, 13.2 (after lecture) and Thursday 2.3 (at lecture)"
   ]
  },
  {
   "cell_type": "markdown",
   "id": "ea03f4ab",
   "metadata": {},
   "source": [
    "**Grading**\n",
    "\n",
    "The exercise covers a part of the grading in this course. The course exam has 5 questions, 6 points of each. Exercise gives 6 points, i.e. the total score is 36 points.\n",
    "\n",
    "From the template below, you can see how many exercise points can be acquired from each task. Exam points are given according to the table below: <br>\n",
    "<br>\n",
    "7 exercise points: 1 exam point <br>\n",
    "8 exercise points: 2 exam points <br>\n",
    "9 exercise points: 3 exam points <br>\n",
    "10 exercise points: 4 exam points <br>\n",
    "11 exercise points: 5 exam points <br>\n",
    "12 exercise points: 6 exam points <br>\n",
    "<br>\n",
    "To pass the exercise, you need at least 7 exercise points, and at least 1 exercise point from each Part.\n",
    "    \n",
    "Each student will grade one submission from a peer and their own submission. After each Part deadline, example results are given. Study them carefully and perform the grading according to the given instructions. Mean value from the peer grading and self-grading is used for the final points. "
   ]
  },
  {
   "cell_type": "code",
   "execution_count": 43,
   "id": "20913a7e",
   "metadata": {},
   "outputs": [
    {
     "name": "stdout",
     "output_type": "stream",
     "text": [
      "The id code is: cd0684bc-5ac6-11ed-8334-70a8d3975279\n"
     ]
    }
   ],
   "source": [
    "import uuid\n",
    "# Run this cell only once and save the code. Use the same id code for each Part.\n",
    "# Printing random id using uuid1()\n",
    "print (\"The id code is: \",end=\"\")\n",
    "print (uuid.uuid1())"
   ]
  },
  {
   "cell_type": "markdown",
   "id": "3ce21d52",
   "metadata": {},
   "source": [
    "# Introduction (1 p)"
   ]
  },
  {
   "cell_type": "markdown",
   "id": "35ca8979",
   "metadata": {},
   "source": [
    "Write an introductory chapter for your report\n",
    "<br>\n",
    "- Explain what is the purpose of this task?\n",
    "- Describe, what kind of data were used? Where did it originate? Give correct reference.\n",
    "- Which methods did you use?\n",
    "- Describe shortly the results"
   ]
  },
  {
   "cell_type": "markdown",
   "id": "9d49e7d2",
   "metadata": {},
   "source": [
    "# Part 2"
   ]
  },
  {
   "cell_type": "markdown",
   "id": "cbec0706",
   "metadata": {},
   "source": [
    "Data exploration and model selection"
   ]
  },
  {
   "cell_type": "markdown",
   "id": "9d85ec88",
   "metadata": {},
   "source": [
    "# Part 3"
   ]
  },
  {
   "cell_type": "markdown",
   "id": "d973b1d7",
   "metadata": {},
   "source": [
    "## Performance estimation (2 p)"
   ]
  },
  {
   "cell_type": "markdown",
   "id": "3929defa",
   "metadata": {},
   "source": [
    "Use the previously gathered data (again, use the standardized features). <br>\n",
    "Estimate the performance of each model using nested cross validation. Use 10-fold cross validation for outer and <br>\n",
    "5-fold repeated cross validation with 3 repetitions for inner loop.  <br> \n",
    "Select the best model in the inner loop using the hyperparameter combinations and ranges defined in the Part 2. <br>\n",
    "For each model, calculate the accuracy and the confusion matrix. <br> \n",
    "Which hyperparameter/hyperparameter combination is most often chosen as the best one for each classifier? "
   ]
  },
  {
   "cell_type": "markdown",
   "id": "85f896a1",
   "metadata": {},
   "source": [
    "## Discussion (2 p)"
   ]
  },
  {
   "cell_type": "markdown",
   "id": "18c6e2e9",
   "metadata": {},
   "source": [
    "Discuss you results\n",
    "\n",
    "- Which model performs the best? Why?\n",
    "- Ponder the limitations and generalization of the models. How well will the classifiers perform for data outside this data set?\n",
    "- Compare your results with the original article. Are they comparable?\n",
    "- Ponder applications for these type of models (classifying rice or other plant species), who could benefit from them? Ponder also what would be interesting to study more on this area?\n",
    "- What did you learn? What was difficult? Could you improve your own working process in some way?"
   ]
  },
  {
   "cell_type": "code",
   "execution_count": null,
   "id": "5c839eed",
   "metadata": {},
   "outputs": [],
   "source": []
  }
 ],
 "metadata": {
  "kernelspec": {
   "display_name": "Python [conda env:env1]",
   "language": "python",
   "name": "conda-env-env1-py"
  },
  "language_info": {
   "codemirror_mode": {
    "name": "ipython",
    "version": 3
   },
   "file_extension": ".py",
   "mimetype": "text/x-python",
   "name": "python",
   "nbconvert_exporter": "python",
   "pygments_lexer": "ipython3",
   "version": "3.10.5"
  },
  "toc": {
   "base_numbering": 1,
   "nav_menu": {},
   "number_sections": true,
   "sideBar": true,
   "skip_h1_title": false,
   "title_cell": "Table of Contents",
   "title_sidebar": "Contents",
   "toc_cell": false,
   "toc_position": {
    "height": "calc(100% - 180px)",
    "left": "10px",
    "top": "150px",
    "width": "232px"
   },
   "toc_section_display": true,
   "toc_window_display": true
  }
 },
 "nbformat": 4,
 "nbformat_minor": 5
}
